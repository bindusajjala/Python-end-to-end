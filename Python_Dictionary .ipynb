{
 "cells": [
  {
   "cell_type": "markdown",
   "id": "021f5e63",
   "metadata": {},
   "source": [
    "<a href=\"https://www.viharatech.com\"><img src=\"https://miro.medium.com/v2/resize:fit:828/format:webp/1*on2Bpj6A5gfd-CzaFOAZRA.jpeg\"></a>\n",
    "\n",
    "\n",
    "- `Welcome to our interactive learning session! In this Jupyter notebook, you'll find a series of questions related to Python Dictionary Concept. To maximize your learning, please write Python code in the cell below each question and execute it. This hands-on practice will help reinforce your understanding of the concepts. Feel free to reach out if you have any questions or need assistance. Happy coding! 💻🐍 `"
   ]
  },
  {
   "cell_type": "markdown",
   "id": "2959043c",
   "metadata": {},
   "source": [
    "### Question 1: Write a function that takes a dictionary and a key as input and returns the corresponding value.\n",
    "\n",
    "- `Sample Input: my_dict = {'a': 1, 'b': 2, 'c': 3}, key = 'b'`\n",
    "- `Sample Output: 2`"
   ]
  },
  {
   "cell_type": "code",
   "execution_count": null,
   "id": "212a0d37",
   "metadata": {},
   "outputs": [],
   "source": [
    "# Please write The solution Here for above question 1:\n",
    "\n"
   ]
  },
  {
   "cell_type": "markdown",
   "id": "bb2f351b",
   "metadata": {},
   "source": [
    "###  Question 2 : Write a function that updates a dictionary with a new key-value pair.\n",
    "\n",
    "- `Sample Input: my_dict = {'a': 1, 'b': 2}, key = 'c', value = 3`\n",
    "- `Sample Output:{'a': 1, 'b': 2, 'c': 3}`"
   ]
  },
  {
   "cell_type": "code",
   "execution_count": null,
   "id": "3be60675",
   "metadata": {},
   "outputs": [],
   "source": [
    "# Please write The solution Here for above question 2:\n",
    "\n",
    "\n"
   ]
  },
  {
   "cell_type": "markdown",
   "id": "1b59b624",
   "metadata": {},
   "source": [
    "### Question 3 : Write a function that checks if a key exists in a dictionary.\n",
    "   - `Sample Input: my_dict = {'a': 1, 'b': 2, 'c': 3}, key = 'd'`\n",
    "   - `Sample Output: False`"
   ]
  },
  {
   "cell_type": "code",
   "execution_count": null,
   "id": "29f31eb5",
   "metadata": {},
   "outputs": [],
   "source": [
    "# Please write The solution Here for above question 3:\n",
    "\n",
    "\n"
   ]
  },
  {
   "cell_type": "markdown",
   "id": "9730f231",
   "metadata": {},
   "source": [
    "### Question 4 :  Write a function that calculates the sum of all values in a dictionary.\n",
    "\n",
    "   - `Sample Input: my_dict = {'a': 1, 'b': 2, 'c': 3}`\n",
    "   - `Sample Output: 6`"
   ]
  },
  {
   "cell_type": "code",
   "execution_count": null,
   "id": "fe30d01c",
   "metadata": {},
   "outputs": [],
   "source": [
    "# Please write The solution Here for above question 4:\n",
    "\n",
    "\n"
   ]
  },
  {
   "cell_type": "markdown",
   "id": "2910ebc8",
   "metadata": {},
   "source": [
    "### Question 5 : Write a function that returns a list of all keys in a dictionary.\n",
    "   - `Sample Input: my_dict = {'a': 1, 'b': 2, 'c': 3}`\n",
    "   - `Sample Output: ['a', 'b', 'c']`"
   ]
  },
  {
   "cell_type": "code",
   "execution_count": null,
   "id": "fdb647a8",
   "metadata": {},
   "outputs": [],
   "source": [
    "# Please write The solution Here for above question 5:\n",
    "\n",
    "\n"
   ]
  },
  {
   "cell_type": "markdown",
   "id": "21a37149",
   "metadata": {},
   "source": [
    "### Question 6 : Write a function that returns a list of all values in a dictionary.\n",
    "   - `Sample Input: my_dict = {'a': 1, 'b': 2, 'c': 3}`\n",
    "   - `Sample Output: [1, 2, 3]`"
   ]
  },
  {
   "cell_type": "code",
   "execution_count": null,
   "id": "05e7812a",
   "metadata": {},
   "outputs": [],
   "source": [
    "# Please write The solution Here for above question 6:\n",
    "\n",
    "\n"
   ]
  },
  {
   "cell_type": "markdown",
   "id": "4ca7bfd2",
   "metadata": {},
   "source": [
    "### Question 7 : Write a function that returns the number of key-value pairs in a dictionary.\n",
    "   - `Sample Input: my_dict = {'a': 1, 'b': 2, 'c': 3}`\n",
    "   - `Sample Output: 3`"
   ]
  },
  {
   "cell_type": "code",
   "execution_count": null,
   "id": "b5a0cde2",
   "metadata": {},
   "outputs": [],
   "source": [
    "# Please write The solution Here for above question 7:\n",
    "\n",
    "\n"
   ]
  },
  {
   "cell_type": "markdown",
   "id": "0af09c32",
   "metadata": {},
   "source": [
    "### Question 8 : Write a function that merges two dictionaries into one.\n",
    "\n",
    "- `Sample Input: dict1 = {'a': 1, 'b': 2}, dict2 = {'c': 3, 'd': 4}`\n",
    "- `Sample Output: {'a': 1, 'b': 2, 'c': 3, 'd': 4}`"
   ]
  },
  {
   "cell_type": "code",
   "execution_count": null,
   "id": "0636b10a",
   "metadata": {},
   "outputs": [],
   "source": [
    "# Please write The solution Here for above question 8:\n",
    "\n",
    "\n"
   ]
  },
  {
   "cell_type": "markdown",
   "id": "e8e946df",
   "metadata": {},
   "source": [
    "### Question 9 : Write a function that sorts a dictionary by its values in ascending order.\n",
    "- `Sample Input: my_dict = {'a': 5, 'b': 2, 'c': 7}`\n",
    "- `Sample Output: {'b': 2, 'a': 5, 'c': 7}`"
   ]
  },
  {
   "cell_type": "code",
   "execution_count": null,
   "id": "5a3b1893",
   "metadata": {},
   "outputs": [],
   "source": [
    "# Please write The solution Here for above question 9:\n",
    "\n"
   ]
  },
  {
   "cell_type": "markdown",
   "id": "5f52b7d0",
   "metadata": {},
   "source": [
    "### Question 10 : Write a function that returns the key in a dictionary with the maximum value.\n",
    "- `Sample Input: my_dict = {'a': 5, 'b': 2, 'c': 7}`\n",
    "- `Sample Output: 'c'`"
   ]
  },
  {
   "cell_type": "code",
   "execution_count": null,
   "id": "956ee5ea",
   "metadata": {},
   "outputs": [],
   "source": [
    "# Please write The solution Here for above question 10:\n",
    "\n",
    "\n"
   ]
  }
 ],
 "metadata": {
  "kernelspec": {
   "display_name": "Python 3 (ipykernel)",
   "language": "python",
   "name": "python3"
  },
  "language_info": {
   "codemirror_mode": {
    "name": "ipython",
    "version": 3
   },
   "file_extension": ".py",
   "mimetype": "text/x-python",
   "name": "python",
   "nbconvert_exporter": "python",
   "pygments_lexer": "ipython3",
   "version": "3.11.5"
  }
 },
 "nbformat": 4,
 "nbformat_minor": 5
}
